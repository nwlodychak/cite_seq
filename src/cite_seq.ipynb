{
 "cells": [
  {
   "cell_type": "markdown",
   "id": "11b1c8c1c9e2d4c6",
   "metadata": {},
   "source": [
    "## CITE-Seq analysis\n",
    "(adapted from [Processing and integrating 5k PBMCs CITE-seq data by Danila Bredikhin](https://muon-tutorials.readthedocs.io/en/latest/cite-seq/1-CITE-seq-PBMC-5k.html))\n",
    "\n",
    "- Data availability: [Atlas of Human Breast Cancers](https://singlecell.broadinstitute.org/single_cell/study/SCP1039/a-single-cell-and-spatially-resolved-atlas-of-human-breast-cancers#/)"
   ]
  },
  {
   "cell_type": "code",
   "execution_count": null,
   "id": "initial_id",
   "metadata": {
    "collapsed": true,
    "jupyter": {
     "outputs_hidden": true
    }
   },
   "outputs": [],
   "source": [
    "import scanpy as sc\n",
    "import seaborn as sns\n",
    "import matplotlib.pyplot as plt"
   ]
  },
  {
   "metadata": {},
   "cell_type": "code",
   "source": [
    "# Data loading\n",
    "rna_data_path = \"data/SCP1039/expression\"\n",
    "rna = sc.read_10x_mtx(rna_data_path)"
   ],
   "id": "3ca3c6bd55976d6b",
   "outputs": [],
   "execution_count": null
  },
  {
   "cell_type": "markdown",
   "source": [
    "The following code block merely does some data wrangling to parse out our patient of interest from the massive 100K dataset\n",
    "We make a mask of the original dataframe for downstream analysis."
   ],
   "metadata": {
    "collapsed": false
   },
   "id": "e38fd5b2dd75499c"
  },
  {
   "cell_type": "code",
   "outputs": [],
   "source": [
    "rna_adata = rna.copy()\n",
    "\n",
    "# patient barcodes are in obs_names followed by cell barcode\n",
    "rna_adata.obs['patient'] = rna_adata.obs_names.str.split('_').str[0]\n",
    "print(\"Unique patients:\", rna_adata.obs['patient'].unique())\n",
    "\n",
    "# patients of interest\n",
    "patient = [\"CID3586\", \"CID3838\", \"CDI3921\", \"CID3941\", \"CID3946\", \"CID3948\", \"CID3963\"]\n",
    "patient_mask = rna_adata.obs['patient'].isin(patient)"
   ],
   "metadata": {
    "collapsed": false
   },
   "id": "d7c9076dd93ceb74",
   "execution_count": null
  },
  {
   "cell_type": "markdown",
   "source": [
    "The following code performs QC and clustering on the masked dataset\n",
    "1. first we filter genes that do not contain at least 10 cells\n",
    "2. Then we normalize the total genes and perform log1p scaling\n",
    "3. Then we filter the genes that are highly variable in the subset\n",
    "4. This subset of data is used to perform dimensionality reduction and leiden clustering"
   ],
   "metadata": {
    "collapsed": false
   },
   "id": "8c298511aab1d9e7"
  },
  {
   "cell_type": "code",
   "outputs": [],
   "source": [
    "patient_filtered = rna_adata[patient_mask].copy()\n",
    "\n",
    "# preprocessing and qc\n",
    "sc.pp.calculate_qc_metrics(patient_filtered, inplace = True)\n",
    "sc.pp.filter_genes(patient_filtered, min_cells = 10)\n",
    "sc.pp.normalize_total(patient_filtered, target_sum = 1e4)\n",
    "sc.pp.log1p(patient_filtered)\n",
    "\n",
    "# filtering highly variable genes\n",
    "sc.pp.highly_variable_genes(patient_filtered, n_top_genes = 2000)\n",
    "rna_hvg = patient_filtered[:, patient_filtered.var.highly_variable]\n",
    "sc.pp.scale(rna_hvg, max_value = 10)\n",
    "\n",
    "# dimensionality reduction\n",
    "sc.pp.pca(rna_hvg, n_comps = 50)\n",
    "sc.pp.neighbors(rna_hvg, n_neighbors = 12, n_pcs = 30)\n",
    "\n",
    "# clustering\n",
    "sc.tl.leiden(rna_hvg, resolution = 0.5, flavor = \"igraph\", n_iterations = 2)\n",
    "sc.tl.umap(rna_hvg)\n",
    "\n",
    "# copy back to dataset\n",
    "patient_filtered.obs['leiden'] = rna_hvg.obs['leiden']"
   ],
   "metadata": {
    "collapsed": false
   },
   "id": "33e3fb2b28e1978",
   "execution_count": null
  },
  {
   "cell_type": "markdown",
   "source": [
    "The following code ranks the gene groups and generates a heatmap based on the cluster grouping and differential expression.\n",
    "Key points:\n",
    "- We use the `pts=True` function in the `rank_gene_groups` to calculate percentage of cells expressing the genes.\n",
    "- We use the `tie_correct=True` function to gain more accurate p-values for expression enrichment."
   ],
   "metadata": {
    "collapsed": false
   },
   "id": "f0690695065ce887"
  },
  {
   "cell_type": "code",
   "outputs": [],
   "source": [
    "rna_filtered = patient_filtered.copy()\n",
    "\n",
    "# explicitly use raw or log-normal data. helps with the scaling\n",
    "if 'raw' in rna_filtered.__dict__ and rna_filtered.raw is not None:\n",
    "    rna_for_de = rna_filtered\n",
    "    use_raw = True\n",
    "else:\n",
    "    rna_for_de = rna_filtered\n",
    "    use_raw = False\n",
    "\n",
    "# rank gene groups.\n",
    "sc.tl.rank_genes_groups(rna_for_de, 'leiden',\n",
    "                        method = 'wilcoxon',\n",
    "                        use_raw = use_raw,\n",
    "                        pts = True,\n",
    "                        tie_correct = True)\n",
    "\n",
    "sc.pl.rank_genes_groups_heatmap(rna_for_de, n_genes = 5,\n",
    "                                groupby = 'leiden',\n",
    "                                show_gene_labels = True,\n",
    "                                dendrogram = True)\n",
    "plt.savefig()"
   ],
   "metadata": {
    "collapsed": false
   },
   "id": "85b3c362c37851c7",
   "execution_count": null
  },
  {
   "cell_type": "code",
   "outputs": [],
   "source": [
    "marker_genes = []\n",
    "for i in range(len(rna_filtered.obs['leiden'].cat.categories)):\n",
    "    markers_df = sc.get.rank_genes_groups_df(rna_for_de, group = str(i))\n",
    "    filtered_markers = markers_df[(markers_df['pvals_adj'] < 0.05) &\n",
    "                                  (markers_df['logfoldchanges'].abs() > 1)]\n",
    "    if not filtered_markers.empty:\n",
    "        marker_genes.extend(filtered_markers['names'][:5].tolist())  # Top 5 genes per cluster\n",
    "\n",
    "# marker gene heatmap\n",
    "if marker_genes:\n",
    "    plt.figure(figsize = (12, 10))\n",
    "    sc.pl.heatmap(rna_filtered, marker_genes, groupby = 'leiden',\n",
    "                  dendrogram = True, standard_scale = 'var',\n",
    "                  swap_axes = True, show_gene_labels = True)\n"
   ],
   "metadata": {
    "collapsed": false
   },
   "id": "9f2b1c4978434f7f",
   "execution_count": null
  },
  {
   "cell_type": "code",
   "outputs": [],
   "source": [
    "sc.pl.dotplot(rna_for_de, marker_genes,\n",
    "              groupby = 'leiden',\n",
    "              dendrogram = True,\n",
    "              standard_scale = 'var',\n",
    "              swap_axes = True)"
   ],
   "metadata": {
    "collapsed": false
   },
   "id": "4fc70cc5d98c65c4",
   "execution_count": null
  },
  {
   "cell_type": "code",
   "outputs": [],
   "source": [
    "# alternate ranking of genes\n",
    "sc.tl.rank_genes_groups(rna_for_de, 'leiden',\n",
    "                        method = 'wilcoxon',\n",
    "                        use_raw = use_raw,\n",
    "                        key_added = 'wilcoxon_fixed',\n",
    "                        pts = True,\n",
    "                        min_in_group_fraction = 0.1,  # Require reasonable expression\n",
    "                        min_fold_change = 1.5)  # Filter for stronger signals\n"
   ],
   "metadata": {
    "collapsed": false
   },
   "id": "1ba23551134ae3f8",
   "execution_count": null
  },
  {
   "cell_type": "markdown",
   "source": [
    "The final part of the expression analysis is performing the neighbors clustering on the highly differentiated genes. What is nice about this is we get better subcluster resolution than against the whole data\n",
    "Ultimately this is most useful for identifying any subclusters that have differentially expressed CDs that can be used for our MSI model prediction."
   ],
   "metadata": {
    "collapsed": false
   },
   "id": "11f4a0a594761744"
  },
  {
   "cell_type": "code",
   "outputs": [],
   "source": [
    "# Re-run analysis on this subset\n",
    "sc.pp.neighbors(rna_filtered, n_neighbors = 15, n_pcs = 30)\n",
    "sc.tl.leiden(rna_filtered, resolution = 0.9)  # Lower resolution for finer subclustering\n",
    "sc.tl.umap(rna_filtered)\n",
    "sc.pl.umap(rna_filtered, color = 'leiden')\n",
    "\n",
    "# fill in more markers here\n",
    "rna_markers = ['CD8A', 'CD55', 'CD79A']\n",
    "markers_in_data = [m for m in rna_markers if m in rna_filtered.var_names]\n",
    "sc.pl.umap(rna_filtered, color = markers_in_data)"
   ],
   "metadata": {
    "collapsed": false
   },
   "id": "527d7fbd1e96172e",
   "execution_count": null
  },
  {
   "cell_type": "code",
   "outputs": [],
   "source": [
    "\n",
    "\n",
    "cell_markers = {\n",
    "    'Epithelial'     : ['KRT18', 'KRT19', 'EPCAM', 'KRT8', 'CDH1', 'MUC1'],\n",
    "    'T-cells_CD8+'   : ['CD3D', 'CD8A', 'CD8B', 'GZMA', 'PRF1', 'GZMB', 'TBX21'],\n",
    "    'T-cells_CD4+'   : ['CD3D', 'CD4', 'IL7R', 'CXCR3', 'CCR4', 'CCR6'],\n",
    "    'B-cells_Memory' : ['CD79A', 'MS4A1', 'CD27', 'CD80', 'CD86', 'IGHG1'],\n",
    "    'B-cells_Naive'  : ['CD79A', 'MS4A1', 'IgD', 'CD38lo', 'CD27-', 'IGHM'],\n",
    "    'Cancer_Basal_SC': ['CD271', 'p63', 'KRT5', 'KRT17', 'VIM', 'ITGA1'],\n",
    "    'Cancer_HER2_SC' : ['CD44', 'CD24-', 'ALDH1', 'ERBB2', 'EGR1', 'MUC1'],\n",
    "    'Myeloid'        : ['CD14', 'LYZ', 'CSF1R', 'CD11b', 'CD11c', 'CD16', 'HLA-DR'],\n",
    "    'Stromal'        : ['COL1A1', 'FAP', 'ACTA2', 'PDGFRA', 'PDGFRB', 'VIM', 'CXCL12']\n",
    "}\n",
    "\n",
    "c = sns.color_palette(\"magma\", n_colors = len(cell_markers.keys()))\n",
    "\n",
    "# cell type scores\n",
    "for cell_type, markers in cell_markers.items():\n",
    "    markers_in_data = [m for m in markers if m in rna_filtered.var_names]\n",
    "    if markers_in_data:\n",
    "        sc.tl.score_genes(rna_filtered, markers_in_data, score_name = f'{cell_type}_score')\n",
    "\n",
    "# predicted cell type\n",
    "cell_type_columns = [f'{ct}_score' for ct in cell_markers.keys() if f'{ct}_score' in rna_filtered.obs.columns]\n",
    "rna_filtered.obs['predicted_celltype'] = rna_filtered.obs[cell_type_columns].idxmax(axis = 1)\n",
    "rna_filtered.obs['predicted_celltype'] = rna_filtered.obs['predicted_celltype'].str.replace('_score', '')\n",
    "\n",
    "# Create a custom color palette for cell types\n",
    "\n",
    "celltype_colors = dict(zip(cell_markers.keys(), c))\n",
    "\n",
    "# Plot a single UMAP with cell types as colors\n",
    "sc.pl.umap(rna_filtered,\n",
    "           color = 'predicted_celltype',\n",
    "           palette = celltype_colors,\n",
    "           legend_loc = 'lower right',\n",
    "           frameon = False,\n",
    "           title = 'Cell Type Classification',\n",
    "           size = 25)"
   ],
   "metadata": {
    "collapsed": false
   },
   "id": "5801bccd10318338",
   "execution_count": null
  },
  {
   "cell_type": "markdown",
   "source": [
    "Predicting MSI is the main feature of this code. We can subset the rna_filtered adata frame to more specifically score the individual cells based on their expression of a few marker genes.\n"
   ],
   "metadata": {
    "collapsed": false
   },
   "id": "1fb47dc69c290667"
  },
  {
   "cell_type": "code",
   "outputs": [],
   "source": [
    "msi_genes = ['WRN', 'MLH1', 'MSH2', 'MSH6', 'PMS2']\n",
    "sc.tl.score_genes(rna_filtered, msi_genes, score_name = 'MSI_score')\n",
    "\n",
    "sc.pl.umap(rna_filtered, color = 'MSI_score',\n",
    "           color_map = 'magma',\n",
    "           size = 40,\n",
    "           title = 'MSI Signature Score')\n",
    "sc.pl.violin(rna_filtered, 'MSI_score', groupby = 'predicted_celltype', rotation = 90, palette = celltype_colors)"
   ],
   "metadata": {
    "collapsed": false
   },
   "id": "ed116533cdcd4249",
   "execution_count": null
  },
  {
   "cell_type": "code",
   "outputs": [],
   "source": [
    "# MSI correlates with immune infiltration\n",
    "immune_markers = ['CD8A', 'IFNG', 'GZMA', 'PRF1', 'IDO1', 'CXCL9', 'CXCL10']\n",
    "sc.tl.score_genes(rna_filtered, immune_markers, score_name = 'immune_score')\n",
    "sc.pl.scatter(rna_filtered, x = 'MSI_score', y = 'immune_score', color = 'predicted_celltype')\n",
    "\n",
    "# Compare MSI with stromal/immune components\n",
    "tme_markers = {'Immune' : ['PTPRC', 'CD3E', 'CD68'],\n",
    "               'Stromal': ['COL1A1', 'VIM', 'FAP']}\n",
    "\n",
    "for tme, markers in tme_markers.items():\n",
    "    markers_in_data = [m for m in markers if m in rna_filtered.var_names]\n",
    "    if markers_in_data:\n",
    "        sc.tl.score_genes(rna_filtered, markers_in_data, score_name = f'{tme}_score')\n",
    "\n",
    "sc.pl.scatter(rna_filtered, x = 'MSI_score', y = 'Immune_score', color = 'Stromal_score')\n",
    "sc.pl.scatter(rna_filtered, x = 'MSI_score', y = 'Immune_score', color = 'patient')"
   ],
   "metadata": {
    "collapsed": false
   },
   "id": "826b40a7998f58a2",
   "execution_count": null
  },
  {
   "cell_type": "code",
   "outputs": [],
   "source": [
    "sc.pl.violin(rna_filtered, 'MSI_score', groupby = 'patient', rotation = 90)"
   ],
   "metadata": {
    "collapsed": false
   },
   "id": "2345d9f78054bbc2",
   "execution_count": null
  },
  {
   "cell_type": "code",
   "outputs": [],
   "source": [],
   "metadata": {
    "collapsed": false
   },
   "id": "b80e056baab13753"
  }
 ],
 "metadata": {
  "kernelspec": {
   "display_name": "Python 3 (ipykernel)",
   "language": "python",
   "name": "python3"
  },
  "language_info": {
   "codemirror_mode": {
    "name": "ipython",
    "version": 3
   },
   "file_extension": ".py",
   "mimetype": "text/x-python",
   "name": "python",
   "nbconvert_exporter": "python",
   "pygments_lexer": "ipython3",
   "version": "3.11.11"
  }
 },
 "nbformat": 4,
 "nbformat_minor": 5
}
